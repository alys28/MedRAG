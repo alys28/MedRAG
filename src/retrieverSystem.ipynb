{
 "cells": [
  {
   "cell_type": "code",
   "execution_count": 1,
   "metadata": {},
   "outputs": [],
   "source": [
    "# Use Cohere / OpenAI / Claude embeddings \n",
    "# Weaviate Database\n",
    "# Step 0: Llama-Index / Langchain for indexing\n",
    "\n",
    "\n",
    "# sparse (BM-25) vs dense (Semantic) retrieval\n",
    "\n",
    "\n",
    "# The textbooks have already been chunked, so we need to do indexing\n"
   ]
  },
  {
   "cell_type": "code",
   "execution_count": 2,
   "metadata": {},
   "outputs": [],
   "source": [
    "# %load_ext autoreload\n",
    "# %autoreload 2\n",
    "\n",
    "%reload_ext autoreload"
   ]
  },
  {
   "cell_type": "code",
   "execution_count": 3,
   "metadata": {},
   "outputs": [],
   "source": [
    "from langchain_openai import OpenAIEmbeddings\n",
    "from dotenv import load_dotenv\n",
    "import os\n",
    "load_dotenv()\n",
    "embeddings = OpenAIEmbeddings()"
   ]
  },
  {
   "cell_type": "markdown",
   "metadata": {},
   "source": [
    "No need for document / text splitting since the dataset has already done that for us."
   ]
  },
  {
   "cell_type": "code",
   "execution_count": 4,
   "metadata": {},
   "outputs": [
    {
     "name": "stdout",
     "output_type": "stream",
     "text": [
      "Hello eversif sdjfkal fjdlsaf sdfnj asfdjl sdfnjsndfs\n",
      " sjdlf sdfnjs d'\n",
      "  sdjf\n"
     ]
    }
   ],
   "source": [
    "from langchain.text_splitter import CharacterTextSplitter\n",
    "from langchain_community.document_loaders import TextLoader\n",
    "loader = TextLoader(\"demo.txt\")\n",
    "documents = loader.load()\n",
    "text_splitter = CharacterTextSplitter(chunk_size=1000, chunk_overlap=0)\n",
    "docs = text_splitter.split_documents(documents)\n",
    "print(docs[0].page_content)"
   ]
  },
  {
   "cell_type": "code",
   "execution_count": 5,
   "metadata": {
    "scrolled": true
   },
   "outputs": [],
   "source": [
    "# Testing it out\n",
    "x = embeddings.embed_query(\"Hello\")"
   ]
  },
  {
   "cell_type": "code",
   "execution_count": 6,
   "metadata": {},
   "outputs": [],
   "source": [
    "# Compile and add all the doc strings\n",
    "import json\n",
    "def compile_docs(chunks_dir) -> list:\n",
    "    arr = []\n",
    "    current_dir = os.getcwd()\n",
    "    for file in os.listdir(chunks_dir):\n",
    "        with open(os.path.join(chunks_dir, file)) as jsonl_file:\n",
    "            for line in jsonl_file:\n",
    "                # Parse the JSON data from the line\n",
    "                d = json.loads(line)\n",
    "                arr.append(d)\n",
    "    return arr\n",
    "docs = compile_docs(\"textbooks/chunk\")"
   ]
  },
  {
   "cell_type": "code",
   "execution_count": 7,
   "metadata": {},
   "outputs": [
    {
     "data": {
      "text/plain": [
       "125847"
      ]
     },
     "execution_count": 7,
     "metadata": {},
     "output_type": "execute_result"
    }
   ],
   "source": [
    "len(docs)"
   ]
  },
  {
   "cell_type": "code",
   "execution_count": 8,
   "metadata": {},
   "outputs": [],
   "source": [
    "import weaviate\n",
    "import os\n",
    "\n",
    "client = weaviate.connect_to_wcs(\n",
    "    cluster_url=os.getenv(\"WCS_URL\"),  # Replace with your Weaviate Cloud URL\n",
    "    auth_credentials=weaviate.auth.AuthApiKey(os.getenv(\"WCS_API_KEY\")),  # Replace with your Weaviate Cloud key\n",
    "    headers={'X-OpenAI-Api-key': os.getenv(\"OPENAI_API_KEY\")}  # Replace with your OpenAI API key\n",
    ")"
   ]
  },
  {
   "cell_type": "code",
   "execution_count": 9,
   "metadata": {},
   "outputs": [],
   "source": [
    "def import_batches_docs(docs, collection_name) -> None:\n",
    "    collection = client.collections.get(collection_name)\n",
    "    with collection.batch.dynamic() as batch:\n",
    "        old_data = \"\"\n",
    "        # Docs to check: Neurology_Adams\n",
    "        for data in docs:\n",
    "            if old_data != data[\"title\"]:\n",
    "                print(data[\"title\"])\n",
    "                old_data = data[\"title\"]\n",
    "            batch.add_object(\n",
    "                properties={\"title\": data[\"title\"], \"content\":data[\"content\"]},\n",
    "                vector= embeddings.embed_query(data[\"content\"]),\n",
    "            )"
   ]
  },
  {
   "cell_type": "code",
   "execution_count": 10,
   "metadata": {},
   "outputs": [],
   "source": [
    "# import_batches_docs(docs, \"Medical_RAG_Data\")"
   ]
  },
  {
   "cell_type": "code",
   "execution_count": 11,
   "metadata": {},
   "outputs": [],
   "source": [
    "medical_RAG_collection = client.collections.get(\"Medical_RAG_Data\")"
   ]
  },
  {
   "cell_type": "markdown",
   "metadata": {},
   "source": [
    "Testing out some features (ignore)"
   ]
  },
  {
   "cell_type": "code",
   "execution_count": 12,
   "metadata": {},
   "outputs": [],
   "source": [
    "from weaviate.classes.query import MetadataQuery\n",
    "# response = medical_RAG_collection.query.near_text(\n",
    "#     query=\"What is anatomy? Anatomy includes those structures that can be seen grossly (without the aid of magnification) and microscopically (with the aid of magnification). Typically, when used by itself, the term anatomy tends to mean gross or macroscopic anatomy\\u2014that is, the study of structures that can be seen without using a microscopic. Microscopic anatomy, also called histology, is the study of cells and tissues using a microscope. Anatomy forms the basis for the practice of medicine. Anatomy leads the physician toward an understanding of a patient\\u2019s disease, whether he or she is carrying out a physical examination or using the most advanced imaging techniques. Anatomy is also important for dentists, chiropractors, physical therapists, and all others involved in any aspect of patient treatment that begins with an analysis of clinical signs. The ability to interpret a clinical observation correctly is therefore the endpoint of a sound anatomical understanding.\",\n",
    "#     limit=2,\n",
    "#     # target_vector=\"title_country\",  # Specify the target vector for named vector collections\n",
    "#     # return_metadata=MetadataQuery(distance=True)\n",
    "# )"
   ]
  },
  {
   "cell_type": "code",
   "execution_count": 13,
   "metadata": {},
   "outputs": [
    {
     "name": "stdout",
     "output_type": "stream",
     "text": [
      "AggregateReturn(properties={}, total_count=114397)\n"
     ]
    }
   ],
   "source": [
    "agg = medical_RAG_collection.aggregate.over_all()\n",
    "print(agg)"
   ]
  },
  {
   "cell_type": "code",
   "execution_count": 14,
   "metadata": {},
   "outputs": [
    {
     "name": "stdout",
     "output_type": "stream",
     "text": [
      "{'title': 'InternalMed_Harrison', 'content': 'severe symptoms or circumstances in which other processes, e.g., infection, are strongly suspected. Nasal oxygen should be used as appropriate to protect arterial saturation. Most crises resolve in 1–7 days. Use of blood transfusion should be reserved for extreme cases: transfusions do not shorten the duration of the crisis.'}\n"
     ]
    }
   ],
   "source": [
    "response = medical_RAG_collection.query.fetch_objects(\n",
    "    include_vector=True,\n",
    "    limit=1\n",
    ")\n",
    "print(response.objects[0].properties)\n",
    "# print(response.objects[0].vector)"
   ]
  },
  {
   "cell_type": "markdown",
   "metadata": {},
   "source": [
    "## BM-25 Search"
   ]
  },
  {
   "cell_type": "code",
   "execution_count": 15,
   "metadata": {
    "scrolled": true
   },
   "outputs": [
    {
     "name": "stdout",
     "output_type": "stream",
     "text": [
      "Object(uuid=_WeaviateUUIDInt('2c4037b2-63d4-48c1-9ec0-6acc3c5e1a9b'), metadata=MetadataReturn(creation_time=None, last_update_time=None, distance=None, certainty=None, score=None, explain_score=None, is_consistent=None, rerank_score=None), properties={'content': 'Obsessive-compulsive features, both related and unrelated to food, are often prominent. Most individuals with anorexia nervosa are preoccupied with thoughts of food. Some col- lect recipes or hoard food. Observations of behaviors associated with other forms of star- vation suggest that obsessions ancl compulsions related to food may be exacerbated by undemutrition. When individuals with anorexia nervosa exhibit obsessions and compul- sions that are not related to food, body shape, or weight, an additional diagnosis of obses- sive-compulsive disorder (OCD) may be warranted.', 'title': 'Psichiatry_DSM-5'}, references=None, vector={}, collection='Medical_RAG_Data')\n"
     ]
    }
   ],
   "source": [
    "response = medical_RAG_collection.query.bm25(\n",
    "    query=\"food\",\n",
    "    limit=1,\n",
    "    query_properties=[\"content\"],\n",
    ")\n",
    "print(response.objects[0])"
   ]
  },
  {
   "cell_type": "markdown",
   "metadata": {},
   "source": [
    "## Near Vector Search"
   ]
  },
  {
   "cell_type": "code",
   "execution_count": 16,
   "metadata": {},
   "outputs": [
    {
     "name": "stdout",
     "output_type": "stream",
     "text": [
      "Object(uuid=_WeaviateUUIDInt('49e8f90a-84c6-4fa0-9f02-11dc97806fbb'), metadata=MetadataReturn(creation_time=None, last_update_time=None, distance=0.18653613328933716, certainty=None, score=None, explain_score=None, is_consistent=None, rerank_score=None), properties={'content': 'The bones of the gluteal region and the thigh are the pelvic bone and the femur (Fig. 6.8). The large ball and socket joint between these two bones is the hip joint. The femur is the bone of the thigh. At its distal end, its major weight-bearing articulation is with the tibia, but it also articulates anteriorly with the patella (knee cap). The patella is the largest sesamoid bone in the body and is embedded in the quadriceps femoris tendon. The joint between the femur and tibia is the principal articulation of the knee joint, but the joint between the patella and femur shares the same articular cavity. Although the main movements at the knee are flexion and extension, the knee joint also allows the femur to rotate on the tibia. This rotation contributes to “locking” of the knee when fully extended, particularly when standing. The leg contains two bones: The tibia is medial in position, is larger than the laterally positioned fibula, and is the weight-bearing bone.', 'title': 'Anatomy_Gray'}, references=None, vector={}, collection='Medical_RAG_Data')\n"
     ]
    }
   ],
   "source": [
    "response = medical_RAG_collection.query.near_vector(\n",
    "    near_vector=embeddings.embed_query(\"What is the biggest bone in the body?\"), # your query vector goes here\n",
    "    limit=2,\n",
    "    return_metadata=MetadataQuery(distance=True)\n",
    ")\n",
    "print(response.objects[0])"
   ]
  },
  {
   "cell_type": "code",
   "execution_count": 17,
   "metadata": {},
   "outputs": [],
   "source": [
    "# Can also search with images. Could be useful for Multimodal benchmarking"
   ]
  },
  {
   "cell_type": "markdown",
   "metadata": {
    "jp-MarkdownHeadingCollapsed": true
   },
   "source": [
    "## Near Text Search (cannot be done with what I currently have set up)"
   ]
  },
  {
   "cell_type": "code",
   "execution_count": 18,
   "metadata": {},
   "outputs": [
    {
     "ename": "UnexpectedStatusCodeError",
     "evalue": "Collection may not have been created properly.! Unexpected status code: 422, with response body: {'error': [{'message': 'class name \"Test\" already exists'}]}.",
     "output_type": "error",
     "traceback": [
      "\u001b[0;31m---------------------------------------------------------------------------\u001b[0m",
      "\u001b[0;31mUnexpectedStatusCodeError\u001b[0m                 Traceback (most recent call last)",
      "Cell \u001b[0;32mIn[18], line 2\u001b[0m\n\u001b[1;32m      1\u001b[0m \u001b[38;5;28;01mimport\u001b[39;00m \u001b[38;5;21;01mweaviate\u001b[39;00m\u001b[38;5;21;01m.\u001b[39;00m\u001b[38;5;21;01mclasses\u001b[39;00m \u001b[38;5;28;01mas\u001b[39;00m \u001b[38;5;21;01mwvc\u001b[39;00m\n\u001b[0;32m----> 2\u001b[0m \u001b[43mclient\u001b[49m\u001b[38;5;241;43m.\u001b[39;49m\u001b[43mcollections\u001b[49m\u001b[38;5;241;43m.\u001b[39;49m\u001b[43mcreate\u001b[49m\u001b[43m(\u001b[49m\n\u001b[1;32m      3\u001b[0m \u001b[43m    \u001b[49m\u001b[38;5;124;43m\"\u001b[39;49m\u001b[38;5;124;43mTest\u001b[39;49m\u001b[38;5;124;43m\"\u001b[39;49m\u001b[43m,\u001b[49m\n\u001b[1;32m      4\u001b[0m \u001b[43m    \u001b[49m\u001b[43mproperties\u001b[49m\u001b[38;5;241;43m=\u001b[39;49m\u001b[43m[\u001b[49m\n\u001b[1;32m      5\u001b[0m \u001b[43m        \u001b[49m\u001b[43mwvc\u001b[49m\u001b[38;5;241;43m.\u001b[39;49m\u001b[43mconfig\u001b[49m\u001b[38;5;241;43m.\u001b[39;49m\u001b[43mProperty\u001b[49m\u001b[43m(\u001b[49m\u001b[43mname\u001b[49m\u001b[38;5;241;43m=\u001b[39;49m\u001b[38;5;124;43m\"\u001b[39;49m\u001b[38;5;124;43mtitle\u001b[39;49m\u001b[38;5;124;43m\"\u001b[39;49m\u001b[43m,\u001b[49m\u001b[43m \u001b[49m\u001b[43mdata_type\u001b[49m\u001b[38;5;241;43m=\u001b[39;49m\u001b[43mwvc\u001b[49m\u001b[38;5;241;43m.\u001b[39;49m\u001b[43mconfig\u001b[49m\u001b[38;5;241;43m.\u001b[39;49m\u001b[43mDataType\u001b[49m\u001b[38;5;241;43m.\u001b[39;49m\u001b[43mTEXT\u001b[49m\u001b[43m)\u001b[49m\u001b[43m,\u001b[49m\n\u001b[1;32m      6\u001b[0m \u001b[43m        \u001b[49m\u001b[43mwvc\u001b[49m\u001b[38;5;241;43m.\u001b[39;49m\u001b[43mconfig\u001b[49m\u001b[38;5;241;43m.\u001b[39;49m\u001b[43mProperty\u001b[49m\u001b[43m(\u001b[49m\u001b[43mname\u001b[49m\u001b[38;5;241;43m=\u001b[39;49m\u001b[38;5;124;43m\"\u001b[39;49m\u001b[38;5;124;43mcontent\u001b[39;49m\u001b[38;5;124;43m\"\u001b[39;49m\u001b[43m,\u001b[49m\u001b[43m \u001b[49m\u001b[43mdata_type\u001b[49m\u001b[38;5;241;43m=\u001b[39;49m\u001b[43mwvc\u001b[49m\u001b[38;5;241;43m.\u001b[39;49m\u001b[43mconfig\u001b[49m\u001b[38;5;241;43m.\u001b[39;49m\u001b[43mDataType\u001b[49m\u001b[38;5;241;43m.\u001b[39;49m\u001b[43mTEXT\u001b[49m\u001b[43m)\u001b[49m\u001b[43m,\u001b[49m\n\u001b[1;32m      7\u001b[0m \u001b[43m    \u001b[49m\u001b[43m]\u001b[49m\u001b[43m,\u001b[49m\n\u001b[1;32m      8\u001b[0m \u001b[43m    \u001b[49m\n\u001b[1;32m      9\u001b[0m \u001b[43m    \u001b[49m\u001b[43mvectorizer_config\u001b[49m\u001b[38;5;241;43m=\u001b[39;49m\u001b[43m[\u001b[49m\u001b[43m \u001b[49m\u001b[38;5;66;43;03m# NEED TO SPECIFY THIS FOR NEAR TEXT TO WORK\u001b[39;49;00m\n\u001b[1;32m     10\u001b[0m \u001b[43m        \u001b[49m\u001b[43mwvc\u001b[49m\u001b[38;5;241;43m.\u001b[39;49m\u001b[43mconfig\u001b[49m\u001b[38;5;241;43m.\u001b[39;49m\u001b[43mConfigure\u001b[49m\u001b[38;5;241;43m.\u001b[39;49m\u001b[43mNamedVectors\u001b[49m\u001b[38;5;241;43m.\u001b[39;49m\u001b[43mtext2vec_openai\u001b[49m\u001b[43m(\u001b[49m\n\u001b[1;32m     11\u001b[0m \u001b[43m            \u001b[49m\u001b[43mname\u001b[49m\u001b[38;5;241;43m=\u001b[39;49m\u001b[38;5;124;43m\"\u001b[39;49m\u001b[38;5;124;43membeddings\u001b[39;49m\u001b[38;5;124;43m\"\u001b[39;49m\u001b[43m,\u001b[49m\n\u001b[1;32m     12\u001b[0m \u001b[43m            \u001b[49m\u001b[43msource_properties\u001b[49m\u001b[38;5;241;43m=\u001b[39;49m\u001b[43m[\u001b[49m\u001b[38;5;124;43m\"\u001b[39;49m\u001b[38;5;124;43mcontent\u001b[39;49m\u001b[38;5;124;43m\"\u001b[39;49m\u001b[43m]\u001b[49m\u001b[43m,\u001b[49m\n\u001b[1;32m     13\u001b[0m \u001b[43m            \u001b[49m\u001b[43mvectorize_collection_name\u001b[49m\u001b[38;5;241;43m=\u001b[39;49m\u001b[38;5;28;43;01mFalse\u001b[39;49;00m\u001b[43m,\u001b[49m\n\u001b[1;32m     14\u001b[0m \u001b[43m            \u001b[49m\u001b[43mvector_index_config\u001b[49m\u001b[38;5;241;43m=\u001b[39;49m\u001b[43mwvc\u001b[49m\u001b[38;5;241;43m.\u001b[39;49m\u001b[43mconfig\u001b[49m\u001b[38;5;241;43m.\u001b[39;49m\u001b[43mConfigure\u001b[49m\u001b[38;5;241;43m.\u001b[39;49m\u001b[43mVectorIndex\u001b[49m\u001b[38;5;241;43m.\u001b[39;49m\u001b[43mhnsw\u001b[49m\u001b[43m(\u001b[49m\u001b[43m)\u001b[49m\u001b[43m,\u001b[49m\n\u001b[1;32m     15\u001b[0m \u001b[43m        \u001b[49m\u001b[43m)\u001b[49m\u001b[43m,\u001b[49m\n\u001b[1;32m     16\u001b[0m \u001b[43m    \u001b[49m\u001b[43m]\u001b[49m\u001b[43m,\u001b[49m\n\u001b[1;32m     17\u001b[0m \u001b[43m)\u001b[49m\n",
      "File \u001b[0;32m~/opt/miniconda3/envs/hamming_ai_env/lib/python3.11/site-packages/weaviate/collections/collections.py:128\u001b[0m, in \u001b[0;36m_Collections.create\u001b[0;34m(self, name, description, generative_config, inverted_index_config, multi_tenancy_config, properties, references, replication_config, reranker_config, sharding_config, vector_index_config, vectorizer_config, data_model_properties, data_model_references, skip_argument_validation)\u001b[0m\n\u001b[1;32m    109\u001b[0m     \u001b[38;5;28;01mraise\u001b[39;00m WeaviateInvalidInputError(\n\u001b[1;32m    110\u001b[0m         \u001b[38;5;124m\"\u001b[39m\u001b[38;5;124mNamed vectorizers are only supported in Weaviate v1.24.0 and higher\u001b[39m\u001b[38;5;124m\"\u001b[39m\n\u001b[1;32m    111\u001b[0m     )\n\u001b[1;32m    113\u001b[0m config \u001b[38;5;241m=\u001b[39m _CollectionConfigCreate(\n\u001b[1;32m    114\u001b[0m     description\u001b[38;5;241m=\u001b[39mdescription,\n\u001b[1;32m    115\u001b[0m     generative_config\u001b[38;5;241m=\u001b[39mgenerative_config,\n\u001b[0;32m   (...)\u001b[0m\n\u001b[1;32m    125\u001b[0m     vector_index_config\u001b[38;5;241m=\u001b[39mvector_index_config,\n\u001b[1;32m    126\u001b[0m )\n\u001b[0;32m--> 128\u001b[0m name \u001b[38;5;241m=\u001b[39m \u001b[38;5;28;43msuper\u001b[39;49m\u001b[43m(\u001b[49m\u001b[43m)\u001b[49m\u001b[38;5;241;43m.\u001b[39;49m\u001b[43m_create\u001b[49m\u001b[43m(\u001b[49m\u001b[43mconfig\u001b[49m\u001b[38;5;241;43m.\u001b[39;49m\u001b[43m_to_dict\u001b[49m\u001b[43m(\u001b[49m\u001b[43m)\u001b[49m\u001b[43m)\u001b[49m\n\u001b[1;32m    129\u001b[0m \u001b[38;5;28;01massert\u001b[39;00m (\n\u001b[1;32m    130\u001b[0m     config\u001b[38;5;241m.\u001b[39mname \u001b[38;5;241m==\u001b[39m name\n\u001b[1;32m    131\u001b[0m ), \u001b[38;5;124mf\u001b[39m\u001b[38;5;124m\"\u001b[39m\u001b[38;5;124mName of created collection (\u001b[39m\u001b[38;5;132;01m{\u001b[39;00mname\u001b[38;5;132;01m}\u001b[39;00m\u001b[38;5;124m) does not match given name (\u001b[39m\u001b[38;5;132;01m{\u001b[39;00mconfig\u001b[38;5;241m.\u001b[39mname\u001b[38;5;132;01m}\u001b[39;00m\u001b[38;5;124m)\u001b[39m\u001b[38;5;124m\"\u001b[39m\n\u001b[1;32m    132\u001b[0m \u001b[38;5;28;01mreturn\u001b[39;00m \u001b[38;5;28mself\u001b[39m\u001b[38;5;241m.\u001b[39mget(\n\u001b[1;32m    133\u001b[0m     name,\n\u001b[1;32m    134\u001b[0m     data_model_properties,\n\u001b[1;32m    135\u001b[0m     data_model_references,\n\u001b[1;32m    136\u001b[0m     skip_argument_validation\u001b[38;5;241m=\u001b[39mskip_argument_validation,\n\u001b[1;32m    137\u001b[0m )\n",
      "File \u001b[0;32m~/opt/miniconda3/envs/hamming_ai_env/lib/python3.11/site-packages/weaviate/collections/base.py:59\u001b[0m, in \u001b[0;36m_CollectionsBase._create\u001b[0;34m(self, config)\u001b[0m\n\u001b[1;32m     55\u001b[0m \u001b[38;5;28;01mdef\u001b[39;00m \u001b[38;5;21m_create\u001b[39m(\n\u001b[1;32m     56\u001b[0m     \u001b[38;5;28mself\u001b[39m,\n\u001b[1;32m     57\u001b[0m     config: \u001b[38;5;28mdict\u001b[39m,\n\u001b[1;32m     58\u001b[0m ) \u001b[38;5;241m-\u001b[39m\u001b[38;5;241m>\u001b[39m \u001b[38;5;28mstr\u001b[39m:\n\u001b[0;32m---> 59\u001b[0m     response \u001b[38;5;241m=\u001b[39m \u001b[38;5;28;43mself\u001b[39;49m\u001b[38;5;241;43m.\u001b[39;49m\u001b[43m_connection\u001b[49m\u001b[38;5;241;43m.\u001b[39;49m\u001b[43mpost\u001b[49m\u001b[43m(\u001b[49m\n\u001b[1;32m     60\u001b[0m \u001b[43m        \u001b[49m\u001b[43mpath\u001b[49m\u001b[38;5;241;43m=\u001b[39;49m\u001b[38;5;124;43m\"\u001b[39;49m\u001b[38;5;124;43m/schema\u001b[39;49m\u001b[38;5;124;43m\"\u001b[39;49m\u001b[43m,\u001b[49m\n\u001b[1;32m     61\u001b[0m \u001b[43m        \u001b[49m\u001b[43mweaviate_object\u001b[49m\u001b[38;5;241;43m=\u001b[39;49m\u001b[43mconfig\u001b[49m\u001b[43m,\u001b[49m\n\u001b[1;32m     62\u001b[0m \u001b[43m        \u001b[49m\u001b[43merror_msg\u001b[49m\u001b[38;5;241;43m=\u001b[39;49m\u001b[38;5;124;43m\"\u001b[39;49m\u001b[38;5;124;43mCollection may not have been created properly.\u001b[39;49m\u001b[38;5;124;43m\"\u001b[39;49m\u001b[43m,\u001b[49m\n\u001b[1;32m     63\u001b[0m \u001b[43m        \u001b[49m\u001b[43mstatus_codes\u001b[49m\u001b[38;5;241;43m=\u001b[39;49m\u001b[43m_ExpectedStatusCodes\u001b[49m\u001b[43m(\u001b[49m\u001b[43mok_in\u001b[49m\u001b[38;5;241;43m=\u001b[39;49m\u001b[38;5;241;43m200\u001b[39;49m\u001b[43m,\u001b[49m\u001b[43m \u001b[49m\u001b[43merror\u001b[49m\u001b[38;5;241;43m=\u001b[39;49m\u001b[38;5;124;43m\"\u001b[39;49m\u001b[38;5;124;43mCreate collection\u001b[39;49m\u001b[38;5;124;43m\"\u001b[39;49m\u001b[43m)\u001b[49m\u001b[43m,\u001b[49m\n\u001b[1;32m     64\u001b[0m \u001b[43m    \u001b[49m\u001b[43m)\u001b[49m\n\u001b[1;32m     66\u001b[0m     collection_name \u001b[38;5;241m=\u001b[39m response\u001b[38;5;241m.\u001b[39mjson()[\u001b[38;5;124m\"\u001b[39m\u001b[38;5;124mclass\u001b[39m\u001b[38;5;124m\"\u001b[39m]\n\u001b[1;32m     67\u001b[0m     \u001b[38;5;28;01massert\u001b[39;00m \u001b[38;5;28misinstance\u001b[39m(collection_name, \u001b[38;5;28mstr\u001b[39m)\n",
      "File \u001b[0;32m~/opt/miniconda3/envs/hamming_ai_env/lib/python3.11/site-packages/weaviate/connect/v4.py:500\u001b[0m, in \u001b[0;36m_Connection.post\u001b[0;34m(self, path, weaviate_object, params, error_msg, status_codes)\u001b[0m\n\u001b[1;32m    492\u001b[0m \u001b[38;5;28;01mdef\u001b[39;00m \u001b[38;5;21mpost\u001b[39m(\n\u001b[1;32m    493\u001b[0m     \u001b[38;5;28mself\u001b[39m,\n\u001b[1;32m    494\u001b[0m     path: \u001b[38;5;28mstr\u001b[39m,\n\u001b[0;32m   (...)\u001b[0m\n\u001b[1;32m    498\u001b[0m     status_codes: Optional[_ExpectedStatusCodes] \u001b[38;5;241m=\u001b[39m \u001b[38;5;28;01mNone\u001b[39;00m,\n\u001b[1;32m    499\u001b[0m ) \u001b[38;5;241m-\u001b[39m\u001b[38;5;241m>\u001b[39m Response:\n\u001b[0;32m--> 500\u001b[0m     \u001b[38;5;28;01mreturn\u001b[39;00m \u001b[38;5;28;43mself\u001b[39;49m\u001b[38;5;241;43m.\u001b[39;49m\u001b[43m__send\u001b[49m\u001b[43m(\u001b[49m\n\u001b[1;32m    501\u001b[0m \u001b[43m        \u001b[49m\u001b[38;5;124;43m\"\u001b[39;49m\u001b[38;5;124;43mPOST\u001b[39;49m\u001b[38;5;124;43m\"\u001b[39;49m\u001b[43m,\u001b[49m\n\u001b[1;32m    502\u001b[0m \u001b[43m        \u001b[49m\u001b[43murl\u001b[49m\u001b[38;5;241;43m=\u001b[39;49m\u001b[38;5;28;43mself\u001b[39;49m\u001b[38;5;241;43m.\u001b[39;49m\u001b[43murl\u001b[49m\u001b[43m \u001b[49m\u001b[38;5;241;43m+\u001b[39;49m\u001b[43m \u001b[49m\u001b[38;5;28;43mself\u001b[39;49m\u001b[38;5;241;43m.\u001b[39;49m\u001b[43m_api_version_path\u001b[49m\u001b[43m \u001b[49m\u001b[38;5;241;43m+\u001b[39;49m\u001b[43m \u001b[49m\u001b[43mpath\u001b[49m\u001b[43m,\u001b[49m\n\u001b[1;32m    503\u001b[0m \u001b[43m        \u001b[49m\u001b[43mweaviate_object\u001b[49m\u001b[38;5;241;43m=\u001b[39;49m\u001b[43mweaviate_object\u001b[49m\u001b[43m,\u001b[49m\n\u001b[1;32m    504\u001b[0m \u001b[43m        \u001b[49m\u001b[43mparams\u001b[49m\u001b[38;5;241;43m=\u001b[39;49m\u001b[43mparams\u001b[49m\u001b[43m,\u001b[49m\n\u001b[1;32m    505\u001b[0m \u001b[43m        \u001b[49m\u001b[43merror_msg\u001b[49m\u001b[38;5;241;43m=\u001b[39;49m\u001b[43merror_msg\u001b[49m\u001b[43m,\u001b[49m\n\u001b[1;32m    506\u001b[0m \u001b[43m        \u001b[49m\u001b[43mstatus_codes\u001b[49m\u001b[38;5;241;43m=\u001b[39;49m\u001b[43mstatus_codes\u001b[49m\u001b[43m,\u001b[49m\n\u001b[1;32m    507\u001b[0m \u001b[43m    \u001b[49m\u001b[43m)\u001b[49m\n",
      "File \u001b[0;32m~/opt/miniconda3/envs/hamming_ai_env/lib/python3.11/site-packages/weaviate/connect/v4.py:451\u001b[0m, in \u001b[0;36m_Connection.__send\u001b[0;34m(self, method, url, error_msg, status_codes, weaviate_object, params)\u001b[0m\n\u001b[1;32m    449\u001b[0m     res \u001b[38;5;241m=\u001b[39m \u001b[38;5;28mself\u001b[39m\u001b[38;5;241m.\u001b[39m_client\u001b[38;5;241m.\u001b[39msend(req)\n\u001b[1;32m    450\u001b[0m     \u001b[38;5;28;01mif\u001b[39;00m status_codes \u001b[38;5;129;01mis\u001b[39;00m \u001b[38;5;129;01mnot\u001b[39;00m \u001b[38;5;28;01mNone\u001b[39;00m \u001b[38;5;129;01mand\u001b[39;00m res\u001b[38;5;241m.\u001b[39mstatus_code \u001b[38;5;129;01mnot\u001b[39;00m \u001b[38;5;129;01min\u001b[39;00m status_codes\u001b[38;5;241m.\u001b[39mok:\n\u001b[0;32m--> 451\u001b[0m         \u001b[38;5;28;01mraise\u001b[39;00m UnexpectedStatusCodeError(error_msg, response\u001b[38;5;241m=\u001b[39mres)\n\u001b[1;32m    452\u001b[0m     \u001b[38;5;28;01mreturn\u001b[39;00m cast(Response, res)\n\u001b[1;32m    453\u001b[0m \u001b[38;5;28;01mexcept\u001b[39;00m \u001b[38;5;167;01mRuntimeError\u001b[39;00m \u001b[38;5;28;01mas\u001b[39;00m e:\n",
      "\u001b[0;31mUnexpectedStatusCodeError\u001b[0m: Collection may not have been created properly.! Unexpected status code: 422, with response body: {'error': [{'message': 'class name \"Test\" already exists'}]}."
     ]
    }
   ],
   "source": [
    "import weaviate.classes as wvc\n",
    "client.collections.create(\n",
    "    \"Test\",\n",
    "    properties=[\n",
    "        wvc.config.Property(name=\"title\", data_type=wvc.config.DataType.TEXT),\n",
    "        wvc.config.Property(name=\"content\", data_type=wvc.config.DataType.TEXT),\n",
    "    ],\n",
    "    \n",
    "    vectorizer_config=[ # NEED TO SPECIFY THIS FOR NEAR TEXT TO WORK\n",
    "        wvc.config.Configure.NamedVectors.text2vec_openai(\n",
    "            name=\"embeddings\",\n",
    "            source_properties=[\"content\"],\n",
    "            vectorize_collection_name=False,\n",
    "            vector_index_config=wvc.config.Configure.VectorIndex.hnsw(),\n",
    "        ),\n",
    "    ],\n",
    ")"
   ]
  },
  {
   "cell_type": "code",
   "execution_count": 92,
   "metadata": {},
   "outputs": [
    {
     "name": "stdout",
     "output_type": "stream",
     "text": [
      "Histology_Ross\n"
     ]
    }
   ],
   "source": [
    "import_batches_docs(docs[0:2], \"Test\")"
   ]
  },
  {
   "cell_type": "code",
   "execution_count": 93,
   "metadata": {},
   "outputs": [
    {
     "name": "stdout",
     "output_type": "stream",
     "text": [
      "AggregateReturn(properties={}, total_count=2)\n"
     ]
    }
   ],
   "source": [
    "test = client.collections.get(\"Test\")\n",
    "agg = test.aggregate.over_all()\n",
    "print(agg)"
   ]
  },
  {
   "cell_type": "code",
   "execution_count": 95,
   "metadata": {},
   "outputs": [
    {
     "data": {
      "text/plain": [
       "QueryReturn(objects=[Object(uuid=_WeaviateUUIDInt('cd518dcc-e038-451e-84ea-689ef83b11f0'), metadata=MetadataReturn(creation_time=None, last_update_time=None, distance=None, certainty=None, score=None, explain_score=None, is_consistent=None, rerank_score=None), properties={'title': 'Histology_Ross', 'content': 'The objective of a histology course is to lead the student to understand the microanatomy of cells, tissues, and organs and to correlate structure with function.'}, references=None, vector={}, collection='Test')])"
      ]
     },
     "execution_count": 95,
     "metadata": {},
     "output_type": "execute_result"
    }
   ],
   "source": [
    "response = test.query.near_text(\n",
    "    query=\"anatomy\",\n",
    "    limit=1,\n",
    "    # target_vector=\"title_country\",  # Specify the target vector for named vector collections\n",
    "    # return_metadata=MetadataQuery(distance=True)\n",
    ")\n",
    "response"
   ]
  },
  {
   "cell_type": "code",
   "execution_count": null,
   "metadata": {},
   "outputs": [],
   "source": []
  },
  {
   "cell_type": "markdown",
   "metadata": {},
   "source": [
    "## RAG Pipeline"
   ]
  },
  {
   "cell_type": "code",
   "execution_count": 55,
   "metadata": {},
   "outputs": [],
   "source": [
    "from template import *\n",
    "from openai import OpenAI\n",
    "\n",
    "\n",
    "class RAG_System:\n",
    "    def __init__(self, model='gpt-4o', limit=5, retrieval_method=\"dense\", collection_name=\"Medical_RAG_Data\"):\n",
    "        self.model = model\n",
    "        self.limit = limit\n",
    "        self.retrieval_method = retrieval_method.lower()\n",
    "        self.client = weaviate.connect_to_wcs(\n",
    "            cluster_url=os.getenv(\"WCS_URL\"),  # Replace with your Weaviate Cloud URL\n",
    "            auth_credentials=weaviate.auth.AuthApiKey(os.getenv(\"WCS_API_KEY\")),  # Replace with your Weaviate Cloud key\n",
    "            headers={'X-OpenAI-Api-key': os.getenv(\"OPENAI_API_KEY\")}  # Replace with your OpenAI API key\n",
    "        )\n",
    "        self.collection = self.client.collections.get(collection_name)\n",
    "        self.model = model\n",
    "    def answer_question(self, query, options=None, rag=False) -> dict:\n",
    "        '''\n",
    "        query (str): question to be answered\n",
    "        options (Dict[str, str]): options to be chosen from (A,B,C,...)\n",
    "        '''\n",
    "        openai_client = OpenAI()\n",
    "        if options is not None:\n",
    "            options = '\\n'.join([key+\". \"+options[key] for key in sorted(options.keys())])\n",
    "        else:\n",
    "            options = ''\n",
    "        if rag:\n",
    "            if self.retrieval_method == \"dense\":\n",
    "                docs = self.collection.query.near_vector(\n",
    "                            near_vector=embeddings.embed_query(query), # your query vector goes here\n",
    "                            limit=self.limit,\n",
    "                            return_metadata=MetadataQuery(distance=True)\n",
    "                        )\n",
    "            elif self.retrieval_method == \"sparse\":\n",
    "                docs = self.collection.query.bm25(\n",
    "                                query=query,\n",
    "                                limit=self.limit,\n",
    "                                query_properties=[\"content\"],\n",
    "                            )\n",
    "            context = \"\"\n",
    "            for i in range(len(docs.objects)):\n",
    "                context += docs.objects[i].properties[\"content\"]\n",
    "                context += \" \"\n",
    "            prompt_medrag = general_medrag.render(context=context, question=query, options=options)\n",
    "            messages=[\n",
    "                    {\"role\": \"system\", \"content\": general_medrag_system},\n",
    "                    {\"role\": \"user\", \"content\": prompt_medrag}\n",
    "            ]\n",
    "        else:\n",
    "            prompt_cot = general_cot.render(question=query, options=options)\n",
    "            messages = [\n",
    "                {\"role\": \"system\", \"content\": general_cot_system},\n",
    "                {\"role\": \"user\", \"content\": prompt_cot}\n",
    "            ]\n",
    "        print(messages)\n",
    "        response = openai_client.chat.completions.create(\n",
    "                      model=self.model,\n",
    "                      messages=messages\n",
    "                    )\n",
    "        ans = response.choices[0].message.content\n",
    "        return ans"
   ]
  },
  {
   "cell_type": "code",
   "execution_count": 62,
   "metadata": {},
   "outputs": [
    {
     "name": "stderr",
     "output_type": "stream",
     "text": [
      "/var/folders/mx/d620gz8j2_x32mmsnvc4bzkh0000gn/T/ipykernel_36055/2524519389.py:1: ResourceWarning: unclosed <ssl.SSLSocket fd=87, family=2, type=1, proto=0, laddr=('192.168.2.18', 52477), raddr=('34.149.137.116', 443)>\n",
      "  sys = RAG_System()\n",
      "ResourceWarning: Enable tracemalloc to get the object allocation traceback\n"
     ]
    },
    {
     "name": "stdout",
     "output_type": "stream",
     "text": [
      "[{'role': 'system', 'content': 'You are a helpful medical expert, and your task is to answer a multi-choice medical question using the relevant documents. Please first think step-by-step and then choose the answer from the provided options. Organize your output in a json formatted as Dict{\"step_by_step_thinking\": Str(explanation), \"answer_choice\": Str{A/B/C/...}}. Your responses will be used for research purposes only, so please have a definite answer.'}, {'role': 'user', 'content': \" Here are the relevant documents: The bones of the gluteal region and the thigh are the pelvic bone and the femur (Fig. 6.8). The large ball and socket joint between these two bones is the hip joint. The femur is the bone of the thigh. At its distal end, its major weight-bearing articulation is with the tibia, but it also articulates anteriorly with the patella (knee cap). The patella is the largest sesamoid bone in the body and is embedded in the quadriceps femoris tendon. The joint between the femur and tibia is the principal articulation of the knee joint, but the joint between the patella and femur shares the same articular cavity. Although the main movements at the knee are flexion and extension, the knee joint also allows the femur to rotate on the tibia. This rotation contributes to “locking” of the knee when fully extended, particularly when standing. The leg contains two bones: The tibia is medial in position, is larger than the laterally positioned fibula, and is the weight-bearing bone. Ground bone, long bone, human, ×80. This figure reveals a cross-sectioned area of a long bone at low magnification and includes the outer or peripheral aspect of the bone, identified by the presence of circumferential lamellae (CL). (The exterior or periosteal surface of the bone is not included in the micrograph.) To their right are the osteons (O) or Haversian systems that appear as circular profiles. Between the osteons are interstitial lamellae (IL), the remnants of previously existing osteons. Compact bone, long bone, human, H&E, ×135. Bone from the diaphysis within the far right rectangle of the oritentation miocrograph is shown here at higher magnification. The outer surface of the bone is covered by dense connective tissue known as periosteum (P). The remaining tissue in be distinguished from the cartilage by the arrangement of its cells, the osteocytes (Oc). The osteocytes lie within the bone matrix, but are typically recognized only by their nuclei. Because bone matrix is laid down in layers (lamellae), bone characteristically shows linear or circular patterns that appear as striations. The irregular spaces seen within the bone tissue are vascular channels (VC) that contain, in addition to vessels, bone-forming tissue. The acetabular fossa provides attachment for the ligament of the head of the femur, whereas blood vessels and nerves pass through the acetabular notch. The femur is the bone of the thigh and the longest bone in the body. Its proximal end is characterized by a head and neck, and two large projections (the greater and lesser trochanters) on the upper part of the shaft (Fig. 6.26). The head of the femur is spherical and articulates with the acetabulum of the pelvic bone. It is characterized by a nonarticular pit (fovea) on its medial surface for the attachment of the ligament of the head. The neck of the femur is a cylindrical strut of bone that connects the head to the shaft of the femur. It projects superomedially from the shaft at an angle of approximately 125°, and projects slightly forward. The orientation of the neck relative to the shaft increases the range of movement of the hip joint. Calcium and phosphate, the major mineral constituents of bone, are also two of the most important minerals for general cellular function. Accordingly, the body has evolved complex mechanisms to carefully maintain calcium and phosphate homeostasis (Figure 42–1). Approximately 98% of the 1–2 kg of calcium and 85% of the 1 kg of phosphorus in the human adult are found in bone, the principal reservoir for these minerals. This reservoir is dynamic, with constant remodeling of bone and ready exchange of bone mineral with that in the extracellular fluid. Bone also serves as the principal structural support for the body and provides the space for hematopoiesis. This relationship is more than fortuitous, as elements of the bone marrow affect skeletal processes just as skeletal elements affect hematopoietic processes. During aging and in nutritional diseases such as anorexia nervosa and obesity, fat accumulates in the marrow, suggesting a dynamic interaction between marrow fat and bone. \\nHere is the question:\\nWhat is the biggest bone in the body?\\nHere are the potential choices:\\nA. Femur\\nB. Humerus\\nC. Cubitus\\nD. Heart\\nPlease think step-by-step and generate your output in json. Don't put \\n's in your reponse.\"}]\n"
     ]
    }
   ],
   "source": [
    "sys = RAG_System()\n",
    "ans = sys.answer_question(query=\"What is the biggest bone in the body?\", options={\"A\": \"Femur\", \"B\": \"Humerus\", \"C\": \"Cubitus\", \"D\": \"Heart\"}, rag=True)"
   ]
  },
  {
   "cell_type": "code",
   "execution_count": 63,
   "metadata": {},
   "outputs": [
    {
     "data": {
      "text/plain": [
       "'{\\n  \"step_by_step_thinking\": \"To answer the question about the biggest bone in the body, let\\'s analyze the provided documents. The documents mention that the femur is the bone of the thigh and specifically state that it is the longest bone in the body. The humerus is another long bone found in the arm, but it is not mentioned to be the biggest or longest. The term \\'cubitus\\' typically refers to the elbow region, not a specific bone. Lastly, the heart is an organ and not a bone. Based on this information, the femur is identified as the largest bone in the body.\",\\n  \"answer_choice\": \"A\"\\n}'"
      ]
     },
     "execution_count": 63,
     "metadata": {},
     "output_type": "execute_result"
    }
   ],
   "source": [
    "ans\n",
    "# WHY DOES IT OUTPUT \\n???"
   ]
  },
  {
   "cell_type": "code",
   "execution_count": null,
   "metadata": {},
   "outputs": [],
   "source": []
  },
  {
   "cell_type": "code",
   "execution_count": 58,
   "metadata": {},
   "outputs": [],
   "source": [
    "%reload_ext autoreload"
   ]
  },
  {
   "cell_type": "code",
   "execution_count": 59,
   "metadata": {},
   "outputs": [],
   "source": [
    "%autoreload 2"
   ]
  },
  {
   "cell_type": "code",
   "execution_count": null,
   "metadata": {},
   "outputs": [],
   "source": []
  }
 ],
 "metadata": {
  "kernelspec": {
   "display_name": "Python [conda env:hamming_ai_env] *",
   "language": "python",
   "name": "conda-env-hamming_ai_env-py"
  },
  "language_info": {
   "codemirror_mode": {
    "name": "ipython",
    "version": 3
   },
   "file_extension": ".py",
   "mimetype": "text/x-python",
   "name": "python",
   "nbconvert_exporter": "python",
   "pygments_lexer": "ipython3",
   "version": "3.11.9"
  }
 },
 "nbformat": 4,
 "nbformat_minor": 4
}
